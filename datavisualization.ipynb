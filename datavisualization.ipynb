{
  "nbformat": 4,
  "nbformat_minor": 0,
  "metadata": {
    "kernelspec": {
      "display_name": "Python 3",
      "language": "python",
      "name": "python3"
    },
    "language_info": {
      "codemirror_mode": {
        "name": "ipython",
        "version": 3
      },
      "file_extension": ".py",
      "mimetype": "text/x-python",
      "name": "python",
      "nbconvert_exporter": "python",
      "pygments_lexer": "ipython3",
      "version": "3.8.5"
    },
    "colab": {
      "name": "datavisualization.ipynb",
      "provenance": []
    }
  },
  "cells": [
    {
      "cell_type": "code",
      "metadata": {
        "id": "0NsLafaxZIBp"
      },
      "source": [
        "# データを可視化分析_※AVILEN講座参考\n",
        "# 特徴量の可視化、決定木、ランダムフォレスト、ロジスティック回帰、SVM、k近傍法を使用"
      ],
      "execution_count": null,
      "outputs": []
    },
    {
      "cell_type": "code",
      "metadata": {
        "id": "FEF3iXFvZIBv"
      },
      "source": [
        "# Feature Visualization\n",
        "# 可視化用のライブラリをインポート\n",
        "#データ処理\n",
        "import pandas as pd\n",
        "from pandas import Series, DataFrame\n",
        "import numpy as np\n",
        "#可視化\n",
        "import matplotlib.pyplot as plt\n",
        "import seaborn as sns\n",
        "%matplotlib inline"
      ],
      "execution_count": null,
      "outputs": []
    },
    {
      "cell_type": "code",
      "metadata": {
        "id": "Z8WEPExJZIB0",
        "outputId": "58fde635-18f6-4b59-b9e4-6e4d751147c4"
      },
      "source": [
        "# データインポート\n",
        "titanic_df = pd.read_csv(\"train.csv\")\n",
        "titanic_df.head()"
      ],
      "execution_count": null,
      "outputs": [
        {
          "output_type": "execute_result",
          "data": {
            "text/html": [
              "<div>\n",
              "<style scoped>\n",
              "    .dataframe tbody tr th:only-of-type {\n",
              "        vertical-align: middle;\n",
              "    }\n",
              "\n",
              "    .dataframe tbody tr th {\n",
              "        vertical-align: top;\n",
              "    }\n",
              "\n",
              "    .dataframe thead th {\n",
              "        text-align: right;\n",
              "    }\n",
              "</style>\n",
              "<table border=\"1\" class=\"dataframe\">\n",
              "  <thead>\n",
              "    <tr style=\"text-align: right;\">\n",
              "      <th></th>\n",
              "      <th>PassengerId</th>\n",
              "      <th>Survived</th>\n",
              "      <th>Pclass</th>\n",
              "      <th>Name</th>\n",
              "      <th>Sex</th>\n",
              "      <th>Age</th>\n",
              "      <th>SibSp</th>\n",
              "      <th>Parch</th>\n",
              "      <th>Ticket</th>\n",
              "      <th>Fare</th>\n",
              "      <th>Cabin</th>\n",
              "      <th>Embarked</th>\n",
              "    </tr>\n",
              "  </thead>\n",
              "  <tbody>\n",
              "    <tr>\n",
              "      <th>0</th>\n",
              "      <td>1</td>\n",
              "      <td>0</td>\n",
              "      <td>3</td>\n",
              "      <td>Braund, Mr. Owen Harris</td>\n",
              "      <td>male</td>\n",
              "      <td>22.0</td>\n",
              "      <td>1</td>\n",
              "      <td>0</td>\n",
              "      <td>A/5 21171</td>\n",
              "      <td>7.2500</td>\n",
              "      <td>NaN</td>\n",
              "      <td>S</td>\n",
              "    </tr>\n",
              "    <tr>\n",
              "      <th>1</th>\n",
              "      <td>2</td>\n",
              "      <td>1</td>\n",
              "      <td>1</td>\n",
              "      <td>Cumings, Mrs. John Bradley (Florence Briggs Th...</td>\n",
              "      <td>female</td>\n",
              "      <td>38.0</td>\n",
              "      <td>1</td>\n",
              "      <td>0</td>\n",
              "      <td>PC 17599</td>\n",
              "      <td>71.2833</td>\n",
              "      <td>C85</td>\n",
              "      <td>C</td>\n",
              "    </tr>\n",
              "    <tr>\n",
              "      <th>2</th>\n",
              "      <td>3</td>\n",
              "      <td>1</td>\n",
              "      <td>3</td>\n",
              "      <td>Heikkinen, Miss. Laina</td>\n",
              "      <td>female</td>\n",
              "      <td>26.0</td>\n",
              "      <td>0</td>\n",
              "      <td>0</td>\n",
              "      <td>STON/O2. 3101282</td>\n",
              "      <td>7.9250</td>\n",
              "      <td>NaN</td>\n",
              "      <td>S</td>\n",
              "    </tr>\n",
              "    <tr>\n",
              "      <th>3</th>\n",
              "      <td>4</td>\n",
              "      <td>1</td>\n",
              "      <td>1</td>\n",
              "      <td>Futrelle, Mrs. Jacques Heath (Lily May Peel)</td>\n",
              "      <td>female</td>\n",
              "      <td>35.0</td>\n",
              "      <td>1</td>\n",
              "      <td>0</td>\n",
              "      <td>113803</td>\n",
              "      <td>53.1000</td>\n",
              "      <td>C123</td>\n",
              "      <td>S</td>\n",
              "    </tr>\n",
              "    <tr>\n",
              "      <th>4</th>\n",
              "      <td>5</td>\n",
              "      <td>0</td>\n",
              "      <td>3</td>\n",
              "      <td>Allen, Mr. William Henry</td>\n",
              "      <td>male</td>\n",
              "      <td>35.0</td>\n",
              "      <td>0</td>\n",
              "      <td>0</td>\n",
              "      <td>373450</td>\n",
              "      <td>8.0500</td>\n",
              "      <td>NaN</td>\n",
              "      <td>S</td>\n",
              "    </tr>\n",
              "  </tbody>\n",
              "</table>\n",
              "</div>"
            ],
            "text/plain": [
              "   PassengerId  Survived  Pclass  \\\n",
              "0            1         0       3   \n",
              "1            2         1       1   \n",
              "2            3         1       3   \n",
              "3            4         1       1   \n",
              "4            5         0       3   \n",
              "\n",
              "                                                Name     Sex   Age  SibSp  \\\n",
              "0                            Braund, Mr. Owen Harris    male  22.0      1   \n",
              "1  Cumings, Mrs. John Bradley (Florence Briggs Th...  female  38.0      1   \n",
              "2                             Heikkinen, Miss. Laina  female  26.0      0   \n",
              "3       Futrelle, Mrs. Jacques Heath (Lily May Peel)  female  35.0      1   \n",
              "4                           Allen, Mr. William Henry    male  35.0      0   \n",
              "\n",
              "   Parch            Ticket     Fare Cabin Embarked  \n",
              "0      0         A/5 21171   7.2500   NaN        S  \n",
              "1      0          PC 17599  71.2833   C85        C  \n",
              "2      0  STON/O2. 3101282   7.9250   NaN        S  \n",
              "3      0            113803  53.1000  C123        S  \n",
              "4      0            373450   8.0500   NaN        S  "
            ]
          },
          "metadata": {
            "tags": []
          },
          "execution_count": 3
        }
      ]
    },
    {
      "cell_type": "code",
      "metadata": {
        "id": "_xS0Dq8wZIB5",
        "outputId": "1a09a732-dee7-42cd-e98d-f2d32a281b84"
      },
      "source": [
        "# データの中身を確認\n",
        "titanic_df.info()"
      ],
      "execution_count": null,
      "outputs": [
        {
          "output_type": "stream",
          "text": [
            "<class 'pandas.core.frame.DataFrame'>\n",
            "RangeIndex: 891 entries, 0 to 890\n",
            "Data columns (total 12 columns):\n",
            " #   Column       Non-Null Count  Dtype  \n",
            "---  ------       --------------  -----  \n",
            " 0   PassengerId  891 non-null    int64  \n",
            " 1   Survived     891 non-null    int64  \n",
            " 2   Pclass       891 non-null    int64  \n",
            " 3   Name         891 non-null    object \n",
            " 4   Sex          891 non-null    object \n",
            " 5   Age          714 non-null    float64\n",
            " 6   SibSp        891 non-null    int64  \n",
            " 7   Parch        891 non-null    int64  \n",
            " 8   Ticket       891 non-null    object \n",
            " 9   Fare         891 non-null    float64\n",
            " 10  Cabin        204 non-null    object \n",
            " 11  Embarked     889 non-null    object \n",
            "dtypes: float64(2), int64(5), object(5)\n",
            "memory usage: 83.7+ KB\n"
          ],
          "name": "stdout"
        }
      ]
    },
    {
      "cell_type": "code",
      "metadata": {
        "id": "nolQuordZIB-",
        "outputId": "ac03c965-6255-467c-ec13-920c8c180395"
      },
      "source": [
        "# countplot:Titanicnの乗客クラスを性別ごとにプロットする\n",
        "#Sex:Pclass\n",
        "sns.countplot(x=\"Sex\",hue=\"Pclass\",data=titanic_df)"
      ],
      "execution_count": null,
      "outputs": [
        {
          "output_type": "execute_result",
          "data": {
            "text/plain": [
              "<AxesSubplot:xlabel='Sex', ylabel='count'>"
            ]
          },
          "metadata": {
            "tags": []
          },
          "execution_count": 5
        },
        {
          "output_type": "display_data",
          "data": {
            "image/png": "[encoded data removed]",
            "text/plain": [
              "<Figure size 432x288 with 1 Axes>"
            ]
          },
          "metadata": {
            "tags": [],
            "needs_background": "light"
          }
        }
      ]
    },
    {
      "cell_type": "code",
      "metadata": {
        "id": "E4LSfzj6ZICC",
        "outputId": "18f6722c-2155-4e65-c7cb-3e161a18cc08"
      },
      "source": [
        "#Pclass:Sex\n",
        "sns.countplot('Pclass',hue=\"Sex\",data=titanic_df)"
      ],
      "execution_count": null,
      "outputs": [
        {
          "output_type": "execute_result",
          "data": {
            "text/plain": [
              "<AxesSubplot:xlabel='Pclass', ylabel='count'>"
            ]
          },
          "metadata": {
            "tags": []
          },
          "execution_count": 6
        },
        {
          "output_type": "display_data",
          "data": {
            "image/png": "[encoded data removed]",
            "text/plain": [
              "<Figure size 432x288 with 1 Axes>"
            ]
          },
          "metadata": {
            "tags": [],
            "needs_background": "light"
          }
        }
      ]
    },
    {
      "cell_type": "code",
      "metadata": {
        "id": "mP7rhZRhZICG",
        "outputId": "0c2e64cc-b865-4dc2-a588-1609bdc244a1"
      },
      "source": [
        "#Sex:Survived\n",
        "sns.countplot(x=\"Sex\",hue=\"Survived\",data=titanic_df)"
      ],
      "execution_count": null,
      "outputs": [
        {
          "output_type": "execute_result",
          "data": {
            "text/plain": [
              "<AxesSubplot:xlabel='Sex', ylabel='count'>"
            ]
          },
          "metadata": {
            "tags": []
          },
          "execution_count": 9
        },
        {
          "output_type": "display_data",
          "data": {
            "image/png": "[encoded data removed]",
            "text/plain": [
              "<Figure size 432x288 with 1 Axes>"
            ]
          },
          "metadata": {
            "tags": [],
            "needs_background": "light"
          }
        }
      ]
    },
    {
      "cell_type": "code",
      "metadata": {
        "id": "gx7zBGCjZICL",
        "outputId": "dbe6eb73-ae10-41d8-ab35-e2fc15270143"
      },
      "source": [
        "#Pclass:survived\n",
        "sns.catplot(x=\"Pclass\",hue=\"Survived\",data=titanic_df,kind=\"count\")"
      ],
      "execution_count": null,
      "outputs": [
        {
          "output_type": "execute_result",
          "data": {
            "text/plain": [
              "<seaborn.axisgrid.FacetGrid at 0x7fd86e528eb0>"
            ]
          },
          "metadata": {
            "tags": []
          },
          "execution_count": 11
        },
        {
          "output_type": "display_data",
          "data": {
            "image/png": "[encoded data removed]",
            "text/plain": [
              "<Figure size 411.875x360 with 1 Axes>"
            ]
          },
          "metadata": {
            "tags": [],
            "needs_background": "light"
          }
        }
      ]
    },
    {
      "cell_type": "code",
      "metadata": {
        "id": "yPdqAahcZICR",
        "outputId": "caf1ae55-b446-4f6f-fddd-10acd009fc77"
      },
      "source": [
        "#stripplot:Titanicの乗客の年齢をクラスごとにプロットする\n",
        "sns.stripplot(x=\"Pclass\",y=\"Age\",data=titanic_df)"
      ],
      "execution_count": null,
      "outputs": [
        {
          "output_type": "execute_result",
          "data": {
            "text/plain": [
              "<AxesSubplot:xlabel='Pclass', ylabel='Age'>"
            ]
          },
          "metadata": {
            "tags": []
          },
          "execution_count": 12
        },
        {
          "output_type": "display_data",
          "data": {
            "image/png": "[encoded data removed]",
            "text/plain": [
              "<Figure size 432x288 with 1 Axes>"
            ]
          },
          "metadata": {
            "tags": [],
            "needs_background": "light"
          }
        }
      ]
    },
    {
      "cell_type": "code",
      "metadata": {
        "id": "vH05LzppZICX",
        "outputId": "57021553-535b-4f69-f078-648e5ca6cf6f"
      },
      "source": [
        "sns.catplot(x=\"Pclass\",y=\"Age\",data=titanic_df,kind=\"strip\")"
      ],
      "execution_count": null,
      "outputs": [
        {
          "output_type": "execute_result",
          "data": {
            "text/plain": [
              "<seaborn.axisgrid.FacetGrid at 0x7fd86aa5fca0>"
            ]
          },
          "metadata": {
            "tags": []
          },
          "execution_count": 15
        },
        {
          "output_type": "display_data",
          "data": {
            "image/png": "[encoded data removed]",
            "text/plain": [
              "<Figure size 360x360 with 1 Axes>"
            ]
          },
          "metadata": {
            "tags": [],
            "needs_background": "light"
          }
        }
      ]
    },
    {
      "cell_type": "code",
      "metadata": {
        "id": "vCcWHHsFZICb",
        "outputId": "4ce0c5ae-d0f9-49a4-b85c-6b5501ea438e"
      },
      "source": [
        "#FacetGrid:Titanicの乗客の年齢分布を生存＆死亡ごとにプロットする\n",
        "#FacetGridグラフ:Age\n",
        "a=sns.FacetGrid(titanic_df,col=\"Survived\",height=6)\n",
        "a.map(plt.hist,'Age',bins=20)"
      ],
      "execution_count": null,
      "outputs": [
        {
          "output_type": "execute_result",
          "data": {
            "text/plain": [
              "<seaborn.axisgrid.FacetGrid at 0x7fd86e8b51f0>"
            ]
          },
          "metadata": {
            "tags": []
          },
          "execution_count": 16
        },
        {
          "output_type": "display_data",
          "data": {
            "image/png": "[encoded data removed]",
            "text/plain": [
              "<Figure size 864x432 with 2 Axes>"
            ]
          },
          "metadata": {
            "tags": [],
            "needs_background": "light"
          }
        }
      ]
    },
    {
      "cell_type": "code",
      "metadata": {
        "id": "20ZvMpaPZICf",
        "outputId": "e83c4517-69ad-46e6-c8cc-eb565094ef19"
      },
      "source": [
        "b=sns.FacetGrid(titanic_df,col='Survived',height=6)\n",
        "b.map(plt.hist,'Fare',bins=10)"
      ],
      "execution_count": null,
      "outputs": [
        {
          "output_type": "execute_result",
          "data": {
            "text/plain": [
              "<seaborn.axisgrid.FacetGrid at 0x7fd86e5f9c10>"
            ]
          },
          "metadata": {
            "tags": []
          },
          "execution_count": 17
        },
        {
          "output_type": "display_data",
          "data": {
            "image/png": "[encoded data removed]",
            "text/plain": [
              "<Figure size 864x432 with 2 Axes>"
            ]
          },
          "metadata": {
            "tags": [],
            "needs_background": "light"
          }
        }
      ]
    },
    {
      "cell_type": "code",
      "metadata": {
        "id": "pJgZh2lxZICi",
        "outputId": "15be43c8-9074-47b9-9dbc-a74ae579b795"
      },
      "source": [
        "#FacetGridグラフ:Pclass\n",
        "#x軸の範囲が少ない時、FacetGridではなく、countplotを使う\n",
        "b=sns.FacetGrid(titanic_df,col=\"Survived\",height=6)\n",
        "b.map(plt.hist,'Pclass',bins=3)"
      ],
      "execution_count": null,
      "outputs": [
        {
          "output_type": "execute_result",
          "data": {
            "text/plain": [
              "<seaborn.axisgrid.FacetGrid at 0x7fd86ef8afd0>"
            ]
          },
          "metadata": {
            "tags": []
          },
          "execution_count": 18
        },
        {
          "output_type": "display_data",
          "data": {
            "image/png": "[encoded data removed]",
            "text/plain": [
              "<Figure size 864x432 with 2 Axes>"
            ]
          },
          "metadata": {
            "tags": [],
            "needs_background": "light"
          }
        }
      ]
    },
    {
      "cell_type": "code",
      "metadata": {
        "id": "y4w_kePWZICm"
      },
      "source": [
        "#Heatmap:特徴量の相関関係をプロットする\n",
        "#Passengerldのコラムはいらない\n",
        "titanic_df02=titanic_df.drop([\"PassengerId\"],axis=1)"
      ],
      "execution_count": null,
      "outputs": []
    },
    {
      "cell_type": "code",
      "metadata": {
        "id": "C2PyEqCrZICr",
        "outputId": "86383861-55ad-4c26-cf3c-bc2f1180dc63"
      },
      "source": [
        "#相関\n",
        "colormap=plt.cm.RdBu\n",
        "plt.figure(figsize=(12,8))\n",
        "sns.heatmap(titanic_df02.corr(),linewidths=1,vmax=1.0,cmap=colormap,linecolor='white',annot=True)"
      ],
      "execution_count": null,
      "outputs": [
        {
          "output_type": "execute_result",
          "data": {
            "text/plain": [
              "<AxesSubplot:>"
            ]
          },
          "metadata": {
            "tags": []
          },
          "execution_count": 21
        },
        {
          "output_type": "display_data",
          "data": {
            "image/png": "[encoded data removed]",
            "text/plain": [
              "<Figure size 864x576 with 2 Axes>"
            ]
          },
          "metadata": {
            "tags": [],
            "needs_background": "light"
          }
        }
      ]
    },
    {
      "cell_type": "code",
      "metadata": {
        "id": "sCvki-vcZICz"
      },
      "source": [
        "#matplotlib\n",
        "Survived_Pclass=titanic_df['Pclass'].groupby(titanic_df['Survived'])"
      ],
      "execution_count": null,
      "outputs": []
    },
    {
      "cell_type": "code",
      "metadata": {
        "id": "N7jCfdnUZIC3",
        "outputId": "92ac979e-f73d-43df-fb2e-e1d77a2579f9"
      },
      "source": [
        "Survived_Pclass.value_counts().unstack()"
      ],
      "execution_count": null,
      "outputs": [
        {
          "output_type": "execute_result",
          "data": {
            "text/html": [
              "<div>\n",
              "<style scoped>\n",
              "    .dataframe tbody tr th:only-of-type {\n",
              "        vertical-align: middle;\n",
              "    }\n",
              "\n",
              "    .dataframe tbody tr th {\n",
              "        vertical-align: top;\n",
              "    }\n",
              "\n",
              "    .dataframe thead th {\n",
              "        text-align: right;\n",
              "    }\n",
              "</style>\n",
              "<table border=\"1\" class=\"dataframe\">\n",
              "  <thead>\n",
              "    <tr style=\"text-align: right;\">\n",
              "      <th>Pclass</th>\n",
              "      <th>1</th>\n",
              "      <th>2</th>\n",
              "      <th>3</th>\n",
              "    </tr>\n",
              "    <tr>\n",
              "      <th>Survived</th>\n",
              "      <th></th>\n",
              "      <th></th>\n",
              "      <th></th>\n",
              "    </tr>\n",
              "  </thead>\n",
              "  <tbody>\n",
              "    <tr>\n",
              "      <th>0</th>\n",
              "      <td>80</td>\n",
              "      <td>97</td>\n",
              "      <td>372</td>\n",
              "    </tr>\n",
              "    <tr>\n",
              "      <th>1</th>\n",
              "      <td>136</td>\n",
              "      <td>87</td>\n",
              "      <td>119</td>\n",
              "    </tr>\n",
              "  </tbody>\n",
              "</table>\n",
              "</div>"
            ],
            "text/plain": [
              "Pclass      1   2    3\n",
              "Survived              \n",
              "0          80  97  372\n",
              "1         136  87  119"
            ]
          },
          "metadata": {
            "tags": []
          },
          "execution_count": 24
        }
      ]
    },
    {
      "cell_type": "code",
      "metadata": {
        "id": "UbIawjIAZIC6",
        "outputId": "0f7158ad-a4b9-4c0e-e7f9-7b1e6c7c4116"
      },
      "source": [
        "Survived_Pclass.value_counts().unstack().plot(kind='bar',stacked=True)\n",
        "plt.show()"
      ],
      "execution_count": null,
      "outputs": [
        {
          "output_type": "display_data",
          "data": {
            "image/png": "[encoded data removed]",
            "text/plain": [
              "<Figure size 432x288 with 1 Axes>"
            ]
          },
          "metadata": {
            "tags": [],
            "needs_background": "light"
          }
        }
      ]
    },
    {
      "cell_type": "code",
      "metadata": {
        "id": "dE7bf6GMZIC9"
      },
      "source": [
        "total_survived=titanic_df['Survived'].sum()\n",
        "total_no_survived=891-total_survived"
      ],
      "execution_count": null,
      "outputs": []
    },
    {
      "cell_type": "code",
      "metadata": {
        "id": "aTb0jgMOZIDB",
        "outputId": "0b7613bb-5a12-4a02-cc08-cf02331a4399"
      },
      "source": [
        "plt.figure(figsize=(7,7))\n",
        "plt.pie([total_no_survived,total_survived],labels=['No Survived','Survived'],autopct='%1.0f%%')\n",
        "plt.title('Survived rate')"
      ],
      "execution_count": null,
      "outputs": [
        {
          "output_type": "execute_result",
          "data": {
            "text/plain": [
              "Text(0.5, 1.0, 'Survived rate')"
            ]
          },
          "metadata": {
            "tags": []
          },
          "execution_count": 32
        },
        {
          "output_type": "display_data",
          "data": {
            "image/png": "[encoded data removed]",
            "text/plain": [
              "<Figure size 504x504 with 1 Axes>"
            ]
          },
          "metadata": {
            "tags": []
          }
        }
      ]
    },
    {
      "cell_type": "code",
      "metadata": {
        "id": "uGBz3BE1ZIDE",
        "outputId": "52e45e4f-8bc0-4d11-f5f4-8188a8633a7c"
      },
      "source": [
        "plt.scatter(titanic_df.Fare,titanic_df.Pclass)"
      ],
      "execution_count": null,
      "outputs": [
        {
          "output_type": "execute_result",
          "data": {
            "text/plain": [
              "<matplotlib.collections.PathCollection at 0x7fd87066fd60>"
            ]
          },
          "metadata": {
            "tags": []
          },
          "execution_count": 33
        },
        {
          "output_type": "display_data",
          "data": {
            "image/png": "[encoded data removed]",
            "text/plain": [
              "<Figure size 432x288 with 1 Axes>"
            ]
          },
          "metadata": {
            "tags": [],
            "needs_background": "light"
          }
        }
      ]
    },
    {
      "cell_type": "code",
      "metadata": {
        "id": "phB5sYVUZIDL"
      },
      "source": [
        "import pandas as pd\n",
        "from sklearn.model_selection import train_test_split\n",
        "from sklearn.metrics import accuracy_score\n",
        "from sklearn.tree import DecisionTreeClassifier\n",
        "from sklearn.ensemble import RandomForestClassifier\n",
        "from sklearn.linear_model import LogisticRegression\n",
        "from sklearn.svm import SVC\n",
        "from sklearn.neighbors import KNeighborsClassifier"
      ],
      "execution_count": null,
      "outputs": []
    },
    {
      "cell_type": "code",
      "metadata": {
        "id": "-DSYht3KZIDO"
      },
      "source": [
        "train=pd.read_csv(\"titanic_modified.csv\")"
      ],
      "execution_count": null,
      "outputs": []
    },
    {
      "cell_type": "code",
      "metadata": {
        "id": "dMfe9SIWZIDR",
        "outputId": "9501acf0-340e-4a78-d7ea-398f56818aef"
      },
      "source": [
        "train.head()"
      ],
      "execution_count": null,
      "outputs": [
        {
          "output_type": "execute_result",
          "data": {
            "text/html": [
              "<div>\n",
              "<style scoped>\n",
              "    .dataframe tbody tr th:only-of-type {\n",
              "        vertical-align: middle;\n",
              "    }\n",
              "\n",
              "    .dataframe tbody tr th {\n",
              "        vertical-align: top;\n",
              "    }\n",
              "\n",
              "    .dataframe thead th {\n",
              "        text-align: right;\n",
              "    }\n",
              "</style>\n",
              "<table border=\"1\" class=\"dataframe\">\n",
              "  <thead>\n",
              "    <tr style=\"text-align: right;\">\n",
              "      <th></th>\n",
              "      <th>Survived</th>\n",
              "      <th>Pclass</th>\n",
              "      <th>Sex</th>\n",
              "      <th>SibSp</th>\n",
              "      <th>Parch</th>\n",
              "      <th>AgeGroup</th>\n",
              "      <th>Title</th>\n",
              "      <th>FareBand</th>\n",
              "    </tr>\n",
              "  </thead>\n",
              "  <tbody>\n",
              "    <tr>\n",
              "      <th>0</th>\n",
              "      <td>0</td>\n",
              "      <td>3</td>\n",
              "      <td>0</td>\n",
              "      <td>1</td>\n",
              "      <td>0</td>\n",
              "      <td>4</td>\n",
              "      <td>1</td>\n",
              "      <td>1</td>\n",
              "    </tr>\n",
              "    <tr>\n",
              "      <th>1</th>\n",
              "      <td>1</td>\n",
              "      <td>1</td>\n",
              "      <td>1</td>\n",
              "      <td>1</td>\n",
              "      <td>0</td>\n",
              "      <td>6</td>\n",
              "      <td>3</td>\n",
              "      <td>4</td>\n",
              "    </tr>\n",
              "    <tr>\n",
              "      <th>2</th>\n",
              "      <td>1</td>\n",
              "      <td>3</td>\n",
              "      <td>1</td>\n",
              "      <td>0</td>\n",
              "      <td>0</td>\n",
              "      <td>5</td>\n",
              "      <td>2</td>\n",
              "      <td>2</td>\n",
              "    </tr>\n",
              "    <tr>\n",
              "      <th>3</th>\n",
              "      <td>1</td>\n",
              "      <td>1</td>\n",
              "      <td>1</td>\n",
              "      <td>1</td>\n",
              "      <td>0</td>\n",
              "      <td>5</td>\n",
              "      <td>3</td>\n",
              "      <td>4</td>\n",
              "    </tr>\n",
              "    <tr>\n",
              "      <th>4</th>\n",
              "      <td>0</td>\n",
              "      <td>3</td>\n",
              "      <td>0</td>\n",
              "      <td>0</td>\n",
              "      <td>0</td>\n",
              "      <td>5</td>\n",
              "      <td>1</td>\n",
              "      <td>2</td>\n",
              "    </tr>\n",
              "  </tbody>\n",
              "</table>\n",
              "</div>"
            ],
            "text/plain": [
              "   Survived  Pclass  Sex  SibSp  Parch  AgeGroup  Title  FareBand\n",
              "0         0       3    0      1      0         4      1         1\n",
              "1         1       1    1      1      0         6      3         4\n",
              "2         1       3    1      0      0         5      2         2\n",
              "3         1       1    1      1      0         5      3         4\n",
              "4         0       3    0      0      0         5      1         2"
            ]
          },
          "metadata": {
            "tags": []
          },
          "execution_count": 37
        }
      ]
    },
    {
      "cell_type": "code",
      "metadata": {
        "id": "QntaICGLZIDX"
      },
      "source": [
        "# 分類時のデータを用意する（ラベルを外す）\n",
        "predictors=train.drop(['Survived'],axis=1)\n",
        "\n",
        "#ラベルを指定する\n",
        "target=train['Survived']\n",
        "\n",
        "#訓練データを８０％、テストデータを２０％に分割する\n",
        "x_train,x_val,y_train,y_val=train_test_split(predictors,target,test_size=0.2,random_state=0)"
      ],
      "execution_count": null,
      "outputs": []
    },
    {
      "cell_type": "code",
      "metadata": {
        "id": "t51rErJhZIDc",
        "outputId": "cb727f83-4c71-4325-ee64-33b4dd65d674"
      },
      "source": [
        "#決定木\n",
        "decisiontree=DecisionTreeClassifier()\n",
        "#訓練\n",
        "decisiontree.fit(x_train,y_train)"
      ],
      "execution_count": null,
      "outputs": [
        {
          "output_type": "execute_result",
          "data": {
            "text/plain": [
              "DecisionTreeClassifier()"
            ]
          },
          "metadata": {
            "tags": []
          },
          "execution_count": 43
        }
      ]
    },
    {
      "cell_type": "code",
      "metadata": {
        "id": "CQ3ZhYM5ZIDh"
      },
      "source": [
        "y_pred=decisiontree.predict(x_val)"
      ],
      "execution_count": null,
      "outputs": []
    },
    {
      "cell_type": "code",
      "metadata": {
        "id": "sFvEpPKNZIDk",
        "outputId": "9cb72635-5f19-4434-bc7c-a4f591fc3423"
      },
      "source": [
        "acc_decisiontree=round(accuracy_score(y_pred,y_val)*100,2)\n",
        "print(acc_decisiontree)"
      ],
      "execution_count": null,
      "outputs": [
        {
          "output_type": "stream",
          "text": [
            "81.56\n"
          ],
          "name": "stdout"
        }
      ]
    },
    {
      "cell_type": "code",
      "metadata": {
        "id": "2PQUctg-ZIDr",
        "outputId": "e9453dbf-8ff9-498c-aeb1-55d53e746360"
      },
      "source": [
        "#ランダムフォレスト Random Forest\n",
        "randomforest=RandomForestClassifier()\n",
        "randomforest.fit(x_train,y_train)"
      ],
      "execution_count": null,
      "outputs": [
        {
          "output_type": "execute_result",
          "data": {
            "text/plain": [
              "RandomForestClassifier()"
            ]
          },
          "metadata": {
            "tags": []
          },
          "execution_count": 47
        }
      ]
    },
    {
      "cell_type": "code",
      "metadata": {
        "id": "KkC7-lWRZIDv"
      },
      "source": [
        "y_pred=randomforest.predict(x_val)"
      ],
      "execution_count": null,
      "outputs": []
    },
    {
      "cell_type": "code",
      "metadata": {
        "id": "IK2fQR0JZIDz",
        "outputId": "2b440e5e-a41c-4ece-b611-862bd44fa4ed"
      },
      "source": [
        "acc_randomforest=round(accuracy_score(y_pred,y_val)*100,2)\n",
        "print(acc_randomforest)"
      ],
      "execution_count": null,
      "outputs": [
        {
          "output_type": "stream",
          "text": [
            "83.8\n"
          ],
          "name": "stdout"
        }
      ]
    },
    {
      "cell_type": "code",
      "metadata": {
        "id": "q_wdFtUGZID7",
        "outputId": "af9c2738-9d25-4a40-86f8-58233f623039"
      },
      "source": [
        "#ロジスティック回帰　Logistic Regression\n",
        "logreg=LogisticRegression()\n",
        "logreg.fit(x_train,y_train)"
      ],
      "execution_count": null,
      "outputs": [
        {
          "output_type": "execute_result",
          "data": {
            "text/plain": [
              "LogisticRegression()"
            ]
          },
          "metadata": {
            "tags": []
          },
          "execution_count": 52
        }
      ]
    },
    {
      "cell_type": "code",
      "metadata": {
        "id": "OK2ozVXeZID-",
        "outputId": "e3627db4-a490-40b6-f34c-50f3296637fa"
      },
      "source": [
        "y_pred=logreg.predict(x_val)\n",
        "acc_logreg=round(accuracy_score(y_pred,y_val)*100,2)\n",
        "print(acc_logreg)"
      ],
      "execution_count": null,
      "outputs": [
        {
          "output_type": "stream",
          "text": [
            "77.09\n"
          ],
          "name": "stdout"
        }
      ]
    },
    {
      "cell_type": "code",
      "metadata": {
        "id": "pGw7KyP7ZIEH",
        "outputId": "d5a8c3a3-caab-453b-bea5-2e514307a82a"
      },
      "source": [
        "#サポートベクタマシン SupportVectorMachine\n",
        "svc=SVC()\n",
        "svc.fit(x_train,y_train)"
      ],
      "execution_count": null,
      "outputs": [
        {
          "output_type": "execute_result",
          "data": {
            "text/plain": [
              "SVC()"
            ]
          },
          "metadata": {
            "tags": []
          },
          "execution_count": 56
        }
      ]
    },
    {
      "cell_type": "code",
      "metadata": {
        "id": "gX7Cb8hhZIEL",
        "outputId": "972d30b0-bb14-42c1-9ddb-a87403e83f07"
      },
      "source": [
        "y_pred=svc.predict(x_val)\n",
        "acc_svc=round(accuracy_score(y_pred,y_val)*100,2)\n",
        "print(acc_svc)"
      ],
      "execution_count": null,
      "outputs": [
        {
          "output_type": "stream",
          "text": [
            "82.68\n"
          ],
          "name": "stdout"
        }
      ]
    },
    {
      "cell_type": "code",
      "metadata": {
        "id": "4zBOnUYFZIES",
        "outputId": "e1f75ca0-b26c-4ca5-a553-c8aa19ad3b13"
      },
      "source": [
        "#k-nearest Neighbor Algorithm(k-NN)\n",
        "knn=KNeighborsClassifier()\n",
        "knn.fit(x_train,y_train)"
      ],
      "execution_count": null,
      "outputs": [
        {
          "output_type": "execute_result",
          "data": {
            "text/plain": [
              "KNeighborsClassifier()"
            ]
          },
          "metadata": {
            "tags": []
          },
          "execution_count": 59
        }
      ]
    },
    {
      "cell_type": "code",
      "metadata": {
        "id": "LnOSd7qKZIEX"
      },
      "source": [
        "y_pred=knn.predict(x_val)"
      ],
      "execution_count": null,
      "outputs": []
    },
    {
      "cell_type": "code",
      "metadata": {
        "id": "Yw8u1X1OZIEc",
        "outputId": "74f10679-f376-443d-c94d-b49358a7836a"
      },
      "source": [
        "acc_knn=round(accuracy_score(y_pred,y_val)*100,2)\n",
        "print('Score is', acc_knn)"
      ],
      "execution_count": null,
      "outputs": [
        {
          "output_type": "stream",
          "text": [
            "Score is 83.8\n"
          ],
          "name": "stdout"
        }
      ]
    },
    {
      "cell_type": "code",
      "metadata": {
        "id": "hxuVrr20ZIEm"
      },
      "source": [
        "#Accuracy Comparation\n",
        "#予測結果をいとつのデータフレームにまとめる\n",
        "models=pd.DataFrame({\n",
        "    'Model':['Logistic Regression','Random Forest','Decision Tree','SVM','kNN'],\n",
        "    'Score':[acc_logreg,acc_randomforest,acc_decisiontree,acc_svc,acc_knn]})"
      ],
      "execution_count": null,
      "outputs": []
    },
    {
      "cell_type": "code",
      "metadata": {
        "id": "hJ9DUzizZIEp",
        "outputId": "3d99df18-6fec-4913-96c4-de4a9f50c660"
      },
      "source": [
        "models"
      ],
      "execution_count": null,
      "outputs": [
        {
          "output_type": "execute_result",
          "data": {
            "text/html": [
              "<div>\n",
              "<style scoped>\n",
              "    .dataframe tbody tr th:only-of-type {\n",
              "        vertical-align: middle;\n",
              "    }\n",
              "\n",
              "    .dataframe tbody tr th {\n",
              "        vertical-align: top;\n",
              "    }\n",
              "\n",
              "    .dataframe thead th {\n",
              "        text-align: right;\n",
              "    }\n",
              "</style>\n",
              "<table border=\"1\" class=\"dataframe\">\n",
              "  <thead>\n",
              "    <tr style=\"text-align: right;\">\n",
              "      <th></th>\n",
              "      <th>Model</th>\n",
              "      <th>Score</th>\n",
              "    </tr>\n",
              "  </thead>\n",
              "  <tbody>\n",
              "    <tr>\n",
              "      <th>0</th>\n",
              "      <td>Logistic Regression</td>\n",
              "      <td>77.09</td>\n",
              "    </tr>\n",
              "    <tr>\n",
              "      <th>1</th>\n",
              "      <td>Random Forest</td>\n",
              "      <td>83.80</td>\n",
              "    </tr>\n",
              "    <tr>\n",
              "      <th>2</th>\n",
              "      <td>Decision Tree</td>\n",
              "      <td>81.56</td>\n",
              "    </tr>\n",
              "    <tr>\n",
              "      <th>3</th>\n",
              "      <td>SVM</td>\n",
              "      <td>82.68</td>\n",
              "    </tr>\n",
              "    <tr>\n",
              "      <th>4</th>\n",
              "      <td>kNN</td>\n",
              "      <td>83.80</td>\n",
              "    </tr>\n",
              "  </tbody>\n",
              "</table>\n",
              "</div>"
            ],
            "text/plain": [
              "                 Model  Score\n",
              "0  Logistic Regression  77.09\n",
              "1        Random Forest  83.80\n",
              "2        Decision Tree  81.56\n",
              "3                  SVM  82.68\n",
              "4                  kNN  83.80"
            ]
          },
          "metadata": {
            "tags": []
          },
          "execution_count": 69
        }
      ]
    },
    {
      "cell_type": "code",
      "metadata": {
        "id": "97VRmi8fZIEu",
        "outputId": "6a0f68c4-8980-42e5-9a60-ad1d5b839cc4"
      },
      "source": [
        "models.sort_values(by='Score',ascending=False)"
      ],
      "execution_count": null,
      "outputs": [
        {
          "output_type": "execute_result",
          "data": {
            "text/html": [
              "<div>\n",
              "<style scoped>\n",
              "    .dataframe tbody tr th:only-of-type {\n",
              "        vertical-align: middle;\n",
              "    }\n",
              "\n",
              "    .dataframe tbody tr th {\n",
              "        vertical-align: top;\n",
              "    }\n",
              "\n",
              "    .dataframe thead th {\n",
              "        text-align: right;\n",
              "    }\n",
              "</style>\n",
              "<table border=\"1\" class=\"dataframe\">\n",
              "  <thead>\n",
              "    <tr style=\"text-align: right;\">\n",
              "      <th></th>\n",
              "      <th>Model</th>\n",
              "      <th>Score</th>\n",
              "    </tr>\n",
              "  </thead>\n",
              "  <tbody>\n",
              "    <tr>\n",
              "      <th>1</th>\n",
              "      <td>Random Forest</td>\n",
              "      <td>83.80</td>\n",
              "    </tr>\n",
              "    <tr>\n",
              "      <th>4</th>\n",
              "      <td>kNN</td>\n",
              "      <td>83.80</td>\n",
              "    </tr>\n",
              "    <tr>\n",
              "      <th>3</th>\n",
              "      <td>SVM</td>\n",
              "      <td>82.68</td>\n",
              "    </tr>\n",
              "    <tr>\n",
              "      <th>2</th>\n",
              "      <td>Decision Tree</td>\n",
              "      <td>81.56</td>\n",
              "    </tr>\n",
              "    <tr>\n",
              "      <th>0</th>\n",
              "      <td>Logistic Regression</td>\n",
              "      <td>77.09</td>\n",
              "    </tr>\n",
              "  </tbody>\n",
              "</table>\n",
              "</div>"
            ],
            "text/plain": [
              "                 Model  Score\n",
              "1        Random Forest  83.80\n",
              "4                  kNN  83.80\n",
              "3                  SVM  82.68\n",
              "2        Decision Tree  81.56\n",
              "0  Logistic Regression  77.09"
            ]
          },
          "metadata": {
            "tags": []
          },
          "execution_count": 70
        }
      ]
    },
    {
      "cell_type": "code",
      "metadata": {
        "id": "pt2rrNPDZIE0",
        "outputId": "8e853a1e-415d-431f-b951-9ce1d153b66c"
      },
      "source": [
        "#1.countplot - SibSp:Survived\n",
        "sns.countplot(x=\"SibSp\",hue=\"Survived\",data=titanic_df)"
      ],
      "execution_count": null,
      "outputs": [
        {
          "output_type": "execute_result",
          "data": {
            "text/plain": [
              "<AxesSubplot:xlabel='SibSp', ylabel='count'>"
            ]
          },
          "metadata": {
            "tags": []
          },
          "execution_count": 71
        },
        {
          "output_type": "display_data",
          "data": {
            "image/png": "[encoded data removed]",
            "text/plain": [
              "<Figure size 432x288 with 1 Axes>"
            ]
          },
          "metadata": {
            "tags": [],
            "needs_background": "light"
          }
        }
      ]
    },
    {
      "cell_type": "code",
      "metadata": {
        "id": "1wAm_7vsZIE3",
        "outputId": "136fa081-4797-4826-ec55-ba81138287e3"
      },
      "source": [
        "# わかりにくい 1.FacetGrid - SibSp:Survived\n",
        "c=sns.FacetGrid(titanic_df,col='Survived',height=6)\n",
        "c.map(plt.hist,'SibSp',bins=10)"
      ],
      "execution_count": null,
      "outputs": [
        {
          "output_type": "execute_result",
          "data": {
            "text/plain": [
              "<seaborn.axisgrid.FacetGrid at 0x7fd870f87ee0>"
            ]
          },
          "metadata": {
            "tags": []
          },
          "execution_count": 73
        },
        {
          "output_type": "display_data",
          "data": {
            "image/png": "[encoded data removed]",
            "text/plain": [
              "<Figure size 864x432 with 2 Axes>"
            ]
          },
          "metadata": {
            "tags": [],
            "needs_background": "light"
          }
        }
      ]
    },
    {
      "cell_type": "code",
      "metadata": {
        "id": "g8zfCjvlZIE6",
        "outputId": "3a17388a-fc23-46bb-a4fb-cb779f1a0b6b"
      },
      "source": [
        "#2.Parch\n",
        "sns.countplot(x=\"Parch\",hue=\"Survived\",data=titanic_df)"
      ],
      "execution_count": null,
      "outputs": [
        {
          "output_type": "execute_result",
          "data": {
            "text/plain": [
              "<AxesSubplot:xlabel='Parch', ylabel='count'>"
            ]
          },
          "metadata": {
            "tags": []
          },
          "execution_count": 74
        },
        {
          "output_type": "display_data",
          "data": {
            "image/png": "[encoded data removed]",
            "text/plain": [
              "<Figure size 432x288 with 1 Axes>"
            ]
          },
          "metadata": {
            "tags": [],
            "needs_background": "light"
          }
        }
      ]
    },
    {
      "cell_type": "code",
      "metadata": {
        "id": "XkfKlER0ZIFA",
        "outputId": "cf4bb0db-91b2-4a98-e8cf-27dc7336c14e"
      },
      "source": [
        "#3.Embarked\n",
        "sns.countplot(x=\"Embarked\",hue=\"Survived\",data=titanic_df)"
      ],
      "execution_count": null,
      "outputs": [
        {
          "output_type": "execute_result",
          "data": {
            "text/plain": [
              "<AxesSubplot:xlabel='Embarked', ylabel='count'>"
            ]
          },
          "metadata": {
            "tags": []
          },
          "execution_count": 75
        },
        {
          "output_type": "display_data",
          "data": {
            "image/png": "[encoded data removed]",
            "text/plain": [
              "<Figure size 432x288 with 1 Axes>"
            ]
          },
          "metadata": {
            "tags": [],
            "needs_background": "light"
          }
        }
      ]
    },
    {
      "cell_type": "code",
      "metadata": {
        "id": "hnE3ulOsZIFE"
      },
      "source": [
        "dau_201308=pd.read_csv('dau_201308.csv')"
      ],
      "execution_count": null,
      "outputs": []
    },
    {
      "cell_type": "code",
      "metadata": {
        "id": "yx6RyJqqZIFJ",
        "outputId": "31d20d88-38f6-4421-b3a5-45b785ca6a53"
      },
      "source": [
        "print(type(dau_201308))\n",
        "print(dau_201308.shape)\n",
        "dau_201308.head()"
      ],
      "execution_count": null,
      "outputs": [
        {
          "output_type": "stream",
          "text": [
            "<class 'pandas.core.frame.DataFrame'>\n",
            "(94185, 5)\n"
          ],
          "name": "stdout"
        },
        {
          "output_type": "execute_result",
          "data": {
            "text/html": [
              "<div>\n",
              "<style scoped>\n",
              "    .dataframe tbody tr th:only-of-type {\n",
              "        vertical-align: middle;\n",
              "    }\n",
              "\n",
              "    .dataframe tbody tr th {\n",
              "        vertical-align: top;\n",
              "    }\n",
              "\n",
              "    .dataframe thead th {\n",
              "        text-align: right;\n",
              "    }\n",
              "</style>\n",
              "<table border=\"1\" class=\"dataframe\">\n",
              "  <thead>\n",
              "    <tr style=\"text-align: right;\">\n",
              "      <th></th>\n",
              "      <th>log_year</th>\n",
              "      <th>log_month</th>\n",
              "      <th>log_date</th>\n",
              "      <th>app_name</th>\n",
              "      <th>user_id</th>\n",
              "    </tr>\n",
              "  </thead>\n",
              "  <tbody>\n",
              "    <tr>\n",
              "      <th>0</th>\n",
              "      <td>2013</td>\n",
              "      <td>2013-08</td>\n",
              "      <td>2013-08-01</td>\n",
              "      <td>game-01</td>\n",
              "      <td>33754</td>\n",
              "    </tr>\n",
              "    <tr>\n",
              "      <th>1</th>\n",
              "      <td>2013</td>\n",
              "      <td>2013-08</td>\n",
              "      <td>2013-08-01</td>\n",
              "      <td>game-01</td>\n",
              "      <td>28598</td>\n",
              "    </tr>\n",
              "    <tr>\n",
              "      <th>2</th>\n",
              "      <td>2013</td>\n",
              "      <td>2013-08</td>\n",
              "      <td>2013-08-01</td>\n",
              "      <td>game-01</td>\n",
              "      <td>30306</td>\n",
              "    </tr>\n",
              "    <tr>\n",
              "      <th>3</th>\n",
              "      <td>2013</td>\n",
              "      <td>2013-08</td>\n",
              "      <td>2013-08-01</td>\n",
              "      <td>game-01</td>\n",
              "      <td>117</td>\n",
              "    </tr>\n",
              "    <tr>\n",
              "      <th>4</th>\n",
              "      <td>2013</td>\n",
              "      <td>2013-08</td>\n",
              "      <td>2013-08-01</td>\n",
              "      <td>game-01</td>\n",
              "      <td>6605</td>\n",
              "    </tr>\n",
              "  </tbody>\n",
              "</table>\n",
              "</div>"
            ],
            "text/plain": [
              "   log_year log_month    log_date app_name  user_id\n",
              "0      2013   2013-08  2013-08-01  game-01    33754\n",
              "1      2013   2013-08  2013-08-01  game-01    28598\n",
              "2      2013   2013-08  2013-08-01  game-01    30306\n",
              "3      2013   2013-08  2013-08-01  game-01      117\n",
              "4      2013   2013-08  2013-08-01  game-01     6605"
            ]
          },
          "metadata": {
            "tags": []
          },
          "execution_count": 79
        }
      ]
    },
    {
      "cell_type": "code",
      "metadata": {
        "id": "Nvl8pUJaZIFM",
        "outputId": "3b8357db-9cac-4ab6-aa18-ce75a6447b56"
      },
      "source": [
        "dau_201308.info()"
      ],
      "execution_count": null,
      "outputs": [
        {
          "output_type": "stream",
          "text": [
            "<class 'pandas.core.frame.DataFrame'>\n",
            "RangeIndex: 94185 entries, 0 to 94184\n",
            "Data columns (total 5 columns):\n",
            " #   Column     Non-Null Count  Dtype \n",
            "---  ------     --------------  ----- \n",
            " 0   log_year   94185 non-null  int64 \n",
            " 1   log_month  94185 non-null  object\n",
            " 2   log_date   94185 non-null  object\n",
            " 3   app_name   94185 non-null  object\n",
            " 4   user_id    94185 non-null  int64 \n",
            "dtypes: int64(2), object(3)\n",
            "memory usage: 3.6+ MB\n"
          ],
          "name": "stdout"
        }
      ]
    },
    {
      "cell_type": "code",
      "metadata": {
        "id": "9NnvzKfKZIFP",
        "outputId": "f91a4323-16a5-4499-9fb7-cfd8930e6727"
      },
      "source": [
        "dau_201309=pd.read_csv('dau_201309.csv')\n",
        "print(type(dau_201309))\n",
        "print(dau_201309.shape)\n",
        "dau_201309.head()"
      ],
      "execution_count": null,
      "outputs": [
        {
          "output_type": "stream",
          "text": [
            "<class 'pandas.core.frame.DataFrame'>\n",
            "(76175, 5)\n"
          ],
          "name": "stdout"
        },
        {
          "output_type": "execute_result",
          "data": {
            "text/html": [
              "<div>\n",
              "<style scoped>\n",
              "    .dataframe tbody tr th:only-of-type {\n",
              "        vertical-align: middle;\n",
              "    }\n",
              "\n",
              "    .dataframe tbody tr th {\n",
              "        vertical-align: top;\n",
              "    }\n",
              "\n",
              "    .dataframe thead th {\n",
              "        text-align: right;\n",
              "    }\n",
              "</style>\n",
              "<table border=\"1\" class=\"dataframe\">\n",
              "  <thead>\n",
              "    <tr style=\"text-align: right;\">\n",
              "      <th></th>\n",
              "      <th>log_year</th>\n",
              "      <th>log_month</th>\n",
              "      <th>log_date</th>\n",
              "      <th>app_name</th>\n",
              "      <th>user_id</th>\n",
              "    </tr>\n",
              "  </thead>\n",
              "  <tbody>\n",
              "    <tr>\n",
              "      <th>0</th>\n",
              "      <td>2013</td>\n",
              "      <td>2013-09</td>\n",
              "      <td>2013-09-01</td>\n",
              "      <td>game-01</td>\n",
              "      <td>40293</td>\n",
              "    </tr>\n",
              "    <tr>\n",
              "      <th>1</th>\n",
              "      <td>2013</td>\n",
              "      <td>2013-09</td>\n",
              "      <td>2013-09-01</td>\n",
              "      <td>game-01</td>\n",
              "      <td>28598</td>\n",
              "    </tr>\n",
              "    <tr>\n",
              "      <th>2</th>\n",
              "      <td>2013</td>\n",
              "      <td>2013-09</td>\n",
              "      <td>2013-09-01</td>\n",
              "      <td>game-01</td>\n",
              "      <td>30306</td>\n",
              "    </tr>\n",
              "    <tr>\n",
              "      <th>3</th>\n",
              "      <td>2013</td>\n",
              "      <td>2013-09</td>\n",
              "      <td>2013-09-01</td>\n",
              "      <td>game-01</td>\n",
              "      <td>24956</td>\n",
              "    </tr>\n",
              "    <tr>\n",
              "      <th>4</th>\n",
              "      <td>2013</td>\n",
              "      <td>2013-09</td>\n",
              "      <td>2013-09-01</td>\n",
              "      <td>game-01</td>\n",
              "      <td>117</td>\n",
              "    </tr>\n",
              "  </tbody>\n",
              "</table>\n",
              "</div>"
            ],
            "text/plain": [
              "   log_year log_month    log_date app_name  user_id\n",
              "0      2013   2013-09  2013-09-01  game-01    40293\n",
              "1      2013   2013-09  2013-09-01  game-01    28598\n",
              "2      2013   2013-09  2013-09-01  game-01    30306\n",
              "3      2013   2013-09  2013-09-01  game-01    24956\n",
              "4      2013   2013-09  2013-09-01  game-01      117"
            ]
          },
          "metadata": {
            "tags": []
          },
          "execution_count": 81
        }
      ]
    },
    {
      "cell_type": "code",
      "metadata": {
        "id": "pBSs-KmhZIFT",
        "outputId": "6e3f2d55-a086-4577-e0fc-dca64647e1ec"
      },
      "source": [
        "user_info=pd.read_csv('user_info.csv')\n",
        "print(type(user_info))\n",
        "print(user_info.shape)\n",
        "user_info.head()"
      ],
      "execution_count": null,
      "outputs": [
        {
          "output_type": "stream",
          "text": [
            "<class 'pandas.core.frame.DataFrame'>\n",
            "(49526, 6)\n"
          ],
          "name": "stdout"
        },
        {
          "output_type": "execute_result",
          "data": {
            "text/html": [
              "<div>\n",
              "<style scoped>\n",
              "    .dataframe tbody tr th:only-of-type {\n",
              "        vertical-align: middle;\n",
              "    }\n",
              "\n",
              "    .dataframe tbody tr th {\n",
              "        vertical-align: top;\n",
              "    }\n",
              "\n",
              "    .dataframe thead th {\n",
              "        text-align: right;\n",
              "    }\n",
              "</style>\n",
              "<table border=\"1\" class=\"dataframe\">\n",
              "  <thead>\n",
              "    <tr style=\"text-align: right;\">\n",
              "      <th></th>\n",
              "      <th>install_date</th>\n",
              "      <th>app_name</th>\n",
              "      <th>user_id</th>\n",
              "      <th>gender</th>\n",
              "      <th>generation</th>\n",
              "      <th>device_type</th>\n",
              "    </tr>\n",
              "  </thead>\n",
              "  <tbody>\n",
              "    <tr>\n",
              "      <th>0</th>\n",
              "      <td>2013-04-15</td>\n",
              "      <td>game-01</td>\n",
              "      <td>1</td>\n",
              "      <td>M</td>\n",
              "      <td>40</td>\n",
              "      <td>iOS</td>\n",
              "    </tr>\n",
              "    <tr>\n",
              "      <th>1</th>\n",
              "      <td>2013-04-15</td>\n",
              "      <td>game-01</td>\n",
              "      <td>2</td>\n",
              "      <td>M</td>\n",
              "      <td>10</td>\n",
              "      <td>Android</td>\n",
              "    </tr>\n",
              "    <tr>\n",
              "      <th>2</th>\n",
              "      <td>2013-04-15</td>\n",
              "      <td>game-01</td>\n",
              "      <td>3</td>\n",
              "      <td>F</td>\n",
              "      <td>40</td>\n",
              "      <td>iOS</td>\n",
              "    </tr>\n",
              "    <tr>\n",
              "      <th>3</th>\n",
              "      <td>2013-04-15</td>\n",
              "      <td>game-01</td>\n",
              "      <td>4</td>\n",
              "      <td>M</td>\n",
              "      <td>10</td>\n",
              "      <td>Android</td>\n",
              "    </tr>\n",
              "    <tr>\n",
              "      <th>4</th>\n",
              "      <td>2013-04-15</td>\n",
              "      <td>game-01</td>\n",
              "      <td>5</td>\n",
              "      <td>M</td>\n",
              "      <td>40</td>\n",
              "      <td>iOS</td>\n",
              "    </tr>\n",
              "  </tbody>\n",
              "</table>\n",
              "</div>"
            ],
            "text/plain": [
              "  install_date app_name  user_id gender  generation device_type\n",
              "0   2013-04-15  game-01        1      M          40         iOS\n",
              "1   2013-04-15  game-01        2      M          10     Android\n",
              "2   2013-04-15  game-01        3      F          40         iOS\n",
              "3   2013-04-15  game-01        4      M          10     Android\n",
              "4   2013-04-15  game-01        5      M          40         iOS"
            ]
          },
          "metadata": {
            "tags": []
          },
          "execution_count": 82
        }
      ]
    },
    {
      "cell_type": "code",
      "metadata": {
        "id": "TPuyXGIBZIFW",
        "outputId": "2764d369-89dc-4a8b-dfc9-536298ffebbf"
      },
      "source": [
        "#8月のアクセス数\n",
        "dau_201308.groupby('log_month').count()"
      ],
      "execution_count": null,
      "outputs": [
        {
          "output_type": "execute_result",
          "data": {
            "text/html": [
              "<div>\n",
              "<style scoped>\n",
              "    .dataframe tbody tr th:only-of-type {\n",
              "        vertical-align: middle;\n",
              "    }\n",
              "\n",
              "    .dataframe tbody tr th {\n",
              "        vertical-align: top;\n",
              "    }\n",
              "\n",
              "    .dataframe thead th {\n",
              "        text-align: right;\n",
              "    }\n",
              "</style>\n",
              "<table border=\"1\" class=\"dataframe\">\n",
              "  <thead>\n",
              "    <tr style=\"text-align: right;\">\n",
              "      <th></th>\n",
              "      <th>log_year</th>\n",
              "      <th>log_date</th>\n",
              "      <th>app_name</th>\n",
              "      <th>user_id</th>\n",
              "    </tr>\n",
              "    <tr>\n",
              "      <th>log_month</th>\n",
              "      <th></th>\n",
              "      <th></th>\n",
              "      <th></th>\n",
              "      <th></th>\n",
              "    </tr>\n",
              "  </thead>\n",
              "  <tbody>\n",
              "    <tr>\n",
              "      <th>2013-08</th>\n",
              "      <td>94185</td>\n",
              "      <td>94185</td>\n",
              "      <td>94185</td>\n",
              "      <td>94185</td>\n",
              "    </tr>\n",
              "  </tbody>\n",
              "</table>\n",
              "</div>"
            ],
            "text/plain": [
              "           log_year  log_date  app_name  user_id\n",
              "log_month                                       \n",
              "2013-08       94185     94185     94185    94185"
            ]
          },
          "metadata": {
            "tags": []
          },
          "execution_count": 83
        }
      ]
    },
    {
      "cell_type": "code",
      "metadata": {
        "id": "wg8kGfRVZIFa",
        "outputId": "e2431d9a-098f-4e95-8533-98b351b848ad"
      },
      "source": [
        "dau_201309.groupby('log_month').count()"
      ],
      "execution_count": null,
      "outputs": [
        {
          "output_type": "execute_result",
          "data": {
            "text/html": [
              "<div>\n",
              "<style scoped>\n",
              "    .dataframe tbody tr th:only-of-type {\n",
              "        vertical-align: middle;\n",
              "    }\n",
              "\n",
              "    .dataframe tbody tr th {\n",
              "        vertical-align: top;\n",
              "    }\n",
              "\n",
              "    .dataframe thead th {\n",
              "        text-align: right;\n",
              "    }\n",
              "</style>\n",
              "<table border=\"1\" class=\"dataframe\">\n",
              "  <thead>\n",
              "    <tr style=\"text-align: right;\">\n",
              "      <th></th>\n",
              "      <th>log_year</th>\n",
              "      <th>log_date</th>\n",
              "      <th>app_name</th>\n",
              "      <th>user_id</th>\n",
              "    </tr>\n",
              "    <tr>\n",
              "      <th>log_month</th>\n",
              "      <th></th>\n",
              "      <th></th>\n",
              "      <th></th>\n",
              "      <th></th>\n",
              "    </tr>\n",
              "  </thead>\n",
              "  <tbody>\n",
              "    <tr>\n",
              "      <th>2013-09</th>\n",
              "      <td>76175</td>\n",
              "      <td>76175</td>\n",
              "      <td>76175</td>\n",
              "      <td>76175</td>\n",
              "    </tr>\n",
              "  </tbody>\n",
              "</table>\n",
              "</div>"
            ],
            "text/plain": [
              "           log_year  log_date  app_name  user_id\n",
              "log_month                                       \n",
              "2013-09       76175     76175     76175    76175"
            ]
          },
          "metadata": {
            "tags": []
          },
          "execution_count": 84
        }
      ]
    },
    {
      "cell_type": "code",
      "metadata": {
        "id": "OR8t1ug6ZIFg",
        "outputId": "7d93de73-de3d-4830-e709-3c831c691a3b"
      },
      "source": [
        "#8月のapp_nameの種類を確認\n",
        "dau_201308.groupby('app_name').count()"
      ],
      "execution_count": null,
      "outputs": [
        {
          "output_type": "execute_result",
          "data": {
            "text/html": [
              "<div>\n",
              "<style scoped>\n",
              "    .dataframe tbody tr th:only-of-type {\n",
              "        vertical-align: middle;\n",
              "    }\n",
              "\n",
              "    .dataframe tbody tr th {\n",
              "        vertical-align: top;\n",
              "    }\n",
              "\n",
              "    .dataframe thead th {\n",
              "        text-align: right;\n",
              "    }\n",
              "</style>\n",
              "<table border=\"1\" class=\"dataframe\">\n",
              "  <thead>\n",
              "    <tr style=\"text-align: right;\">\n",
              "      <th></th>\n",
              "      <th>log_year</th>\n",
              "      <th>log_month</th>\n",
              "      <th>log_date</th>\n",
              "      <th>user_id</th>\n",
              "    </tr>\n",
              "    <tr>\n",
              "      <th>app_name</th>\n",
              "      <th></th>\n",
              "      <th></th>\n",
              "      <th></th>\n",
              "      <th></th>\n",
              "    </tr>\n",
              "  </thead>\n",
              "  <tbody>\n",
              "    <tr>\n",
              "      <th>game-01</th>\n",
              "      <td>94185</td>\n",
              "      <td>94185</td>\n",
              "      <td>94185</td>\n",
              "      <td>94185</td>\n",
              "    </tr>\n",
              "  </tbody>\n",
              "</table>\n",
              "</div>"
            ],
            "text/plain": [
              "          log_year  log_month  log_date  user_id\n",
              "app_name                                        \n",
              "game-01      94185      94185     94185    94185"
            ]
          },
          "metadata": {
            "tags": []
          },
          "execution_count": 85
        }
      ]
    },
    {
      "cell_type": "code",
      "metadata": {
        "id": "PWjYzmiDZIFj",
        "outputId": "25846d62-daa8-4b9d-8f6d-6dbb9826955d"
      },
      "source": [
        "#9月のapp_nameの種類を確認\n",
        "dau_201309.groupby('app_name').count()"
      ],
      "execution_count": null,
      "outputs": [
        {
          "output_type": "execute_result",
          "data": {
            "text/html": [
              "<div>\n",
              "<style scoped>\n",
              "    .dataframe tbody tr th:only-of-type {\n",
              "        vertical-align: middle;\n",
              "    }\n",
              "\n",
              "    .dataframe tbody tr th {\n",
              "        vertical-align: top;\n",
              "    }\n",
              "\n",
              "    .dataframe thead th {\n",
              "        text-align: right;\n",
              "    }\n",
              "</style>\n",
              "<table border=\"1\" class=\"dataframe\">\n",
              "  <thead>\n",
              "    <tr style=\"text-align: right;\">\n",
              "      <th></th>\n",
              "      <th>log_year</th>\n",
              "      <th>log_month</th>\n",
              "      <th>log_date</th>\n",
              "      <th>user_id</th>\n",
              "    </tr>\n",
              "    <tr>\n",
              "      <th>app_name</th>\n",
              "      <th></th>\n",
              "      <th></th>\n",
              "      <th></th>\n",
              "      <th></th>\n",
              "    </tr>\n",
              "  </thead>\n",
              "  <tbody>\n",
              "    <tr>\n",
              "      <th>game-01</th>\n",
              "      <td>76175</td>\n",
              "      <td>76175</td>\n",
              "      <td>76175</td>\n",
              "      <td>76175</td>\n",
              "    </tr>\n",
              "  </tbody>\n",
              "</table>\n",
              "</div>"
            ],
            "text/plain": [
              "          log_year  log_month  log_date  user_id\n",
              "app_name                                        \n",
              "game-01      76175      76175     76175    76175"
            ]
          },
          "metadata": {
            "tags": []
          },
          "execution_count": 86
        }
      ]
    },
    {
      "cell_type": "code",
      "metadata": {
        "id": "bFNJaBhlZIFn",
        "outputId": "e68e46c1-6cea-48ee-84a5-88fd1786578a"
      },
      "source": [
        "#user_infoのapp_nameの種類を確認\n",
        "user_info.groupby('app_name').count()"
      ],
      "execution_count": null,
      "outputs": [
        {
          "output_type": "execute_result",
          "data": {
            "text/html": [
              "<div>\n",
              "<style scoped>\n",
              "    .dataframe tbody tr th:only-of-type {\n",
              "        vertical-align: middle;\n",
              "    }\n",
              "\n",
              "    .dataframe tbody tr th {\n",
              "        vertical-align: top;\n",
              "    }\n",
              "\n",
              "    .dataframe thead th {\n",
              "        text-align: right;\n",
              "    }\n",
              "</style>\n",
              "<table border=\"1\" class=\"dataframe\">\n",
              "  <thead>\n",
              "    <tr style=\"text-align: right;\">\n",
              "      <th></th>\n",
              "      <th>install_date</th>\n",
              "      <th>user_id</th>\n",
              "      <th>gender</th>\n",
              "      <th>generation</th>\n",
              "      <th>device_type</th>\n",
              "    </tr>\n",
              "    <tr>\n",
              "      <th>app_name</th>\n",
              "      <th></th>\n",
              "      <th></th>\n",
              "      <th></th>\n",
              "      <th></th>\n",
              "      <th></th>\n",
              "    </tr>\n",
              "  </thead>\n",
              "  <tbody>\n",
              "    <tr>\n",
              "      <th>game-01</th>\n",
              "      <td>49526</td>\n",
              "      <td>49526</td>\n",
              "      <td>49526</td>\n",
              "      <td>49526</td>\n",
              "      <td>49526</td>\n",
              "    </tr>\n",
              "  </tbody>\n",
              "</table>\n",
              "</div>"
            ],
            "text/plain": [
              "          install_date  user_id  gender  generation  device_type\n",
              "app_name                                                        \n",
              "game-01          49526    49526   49526       49526        49526"
            ]
          },
          "metadata": {
            "tags": []
          },
          "execution_count": 87
        }
      ]
    },
    {
      "cell_type": "code",
      "metadata": {
        "id": "jfH-H8YBZIFq",
        "outputId": "c0488954-6540-4af2-ad38-f0430d014484"
      },
      "source": [
        "#８月と９月のデータを縦結合\n",
        "dau=pd.concat([dau_201308,dau_201309],axis=0)\n",
        "print(type(dau))\n",
        "print(dau.shape)\n",
        "dau.head()"
      ],
      "execution_count": null,
      "outputs": [
        {
          "output_type": "stream",
          "text": [
            "<class 'pandas.core.frame.DataFrame'>\n",
            "(170360, 5)\n"
          ],
          "name": "stdout"
        },
        {
          "output_type": "execute_result",
          "data": {
            "text/html": [
              "<div>\n",
              "<style scoped>\n",
              "    .dataframe tbody tr th:only-of-type {\n",
              "        vertical-align: middle;\n",
              "    }\n",
              "\n",
              "    .dataframe tbody tr th {\n",
              "        vertical-align: top;\n",
              "    }\n",
              "\n",
              "    .dataframe thead th {\n",
              "        text-align: right;\n",
              "    }\n",
              "</style>\n",
              "<table border=\"1\" class=\"dataframe\">\n",
              "  <thead>\n",
              "    <tr style=\"text-align: right;\">\n",
              "      <th></th>\n",
              "      <th>log_year</th>\n",
              "      <th>log_month</th>\n",
              "      <th>log_date</th>\n",
              "      <th>app_name</th>\n",
              "      <th>user_id</th>\n",
              "    </tr>\n",
              "  </thead>\n",
              "  <tbody>\n",
              "    <tr>\n",
              "      <th>0</th>\n",
              "      <td>2013</td>\n",
              "      <td>2013-08</td>\n",
              "      <td>2013-08-01</td>\n",
              "      <td>game-01</td>\n",
              "      <td>33754</td>\n",
              "    </tr>\n",
              "    <tr>\n",
              "      <th>1</th>\n",
              "      <td>2013</td>\n",
              "      <td>2013-08</td>\n",
              "      <td>2013-08-01</td>\n",
              "      <td>game-01</td>\n",
              "      <td>28598</td>\n",
              "    </tr>\n",
              "    <tr>\n",
              "      <th>2</th>\n",
              "      <td>2013</td>\n",
              "      <td>2013-08</td>\n",
              "      <td>2013-08-01</td>\n",
              "      <td>game-01</td>\n",
              "      <td>30306</td>\n",
              "    </tr>\n",
              "    <tr>\n",
              "      <th>3</th>\n",
              "      <td>2013</td>\n",
              "      <td>2013-08</td>\n",
              "      <td>2013-08-01</td>\n",
              "      <td>game-01</td>\n",
              "      <td>117</td>\n",
              "    </tr>\n",
              "    <tr>\n",
              "      <th>4</th>\n",
              "      <td>2013</td>\n",
              "      <td>2013-08</td>\n",
              "      <td>2013-08-01</td>\n",
              "      <td>game-01</td>\n",
              "      <td>6605</td>\n",
              "    </tr>\n",
              "  </tbody>\n",
              "</table>\n",
              "</div>"
            ],
            "text/plain": [
              "   log_year log_month    log_date app_name  user_id\n",
              "0      2013   2013-08  2013-08-01  game-01    33754\n",
              "1      2013   2013-08  2013-08-01  game-01    28598\n",
              "2      2013   2013-08  2013-08-01  game-01    30306\n",
              "3      2013   2013-08  2013-08-01  game-01      117\n",
              "4      2013   2013-08  2013-08-01  game-01     6605"
            ]
          },
          "metadata": {
            "tags": []
          },
          "execution_count": 88
        }
      ]
    },
    {
      "cell_type": "code",
      "metadata": {
        "id": "vo61m8S2ZIFu",
        "outputId": "e2613014-8338-4239-f762-99dcea3b55be"
      },
      "source": [
        "#user_infoのデータコラムをleft結合\n",
        "df3_1=pd.merge(dau,user_info,on=['user_id'],how='left')\n",
        "print(type(df3_1))\n",
        "print(df3_1.shape)\n",
        "df3_1.head()"
      ],
      "execution_count": null,
      "outputs": [
        {
          "output_type": "stream",
          "text": [
            "<class 'pandas.core.frame.DataFrame'>\n",
            "(170360, 10)\n"
          ],
          "name": "stdout"
        },
        {
          "output_type": "execute_result",
          "data": {
            "text/html": [
              "<div>\n",
              "<style scoped>\n",
              "    .dataframe tbody tr th:only-of-type {\n",
              "        vertical-align: middle;\n",
              "    }\n",
              "\n",
              "    .dataframe tbody tr th {\n",
              "        vertical-align: top;\n",
              "    }\n",
              "\n",
              "    .dataframe thead th {\n",
              "        text-align: right;\n",
              "    }\n",
              "</style>\n",
              "<table border=\"1\" class=\"dataframe\">\n",
              "  <thead>\n",
              "    <tr style=\"text-align: right;\">\n",
              "      <th></th>\n",
              "      <th>log_year</th>\n",
              "      <th>log_month</th>\n",
              "      <th>log_date</th>\n",
              "      <th>app_name_x</th>\n",
              "      <th>user_id</th>\n",
              "      <th>install_date</th>\n",
              "      <th>app_name_y</th>\n",
              "      <th>gender</th>\n",
              "      <th>generation</th>\n",
              "      <th>device_type</th>\n",
              "    </tr>\n",
              "  </thead>\n",
              "  <tbody>\n",
              "    <tr>\n",
              "      <th>0</th>\n",
              "      <td>2013</td>\n",
              "      <td>2013-08</td>\n",
              "      <td>2013-08-01</td>\n",
              "      <td>game-01</td>\n",
              "      <td>33754</td>\n",
              "      <td>2013-08-01</td>\n",
              "      <td>game-01</td>\n",
              "      <td>M</td>\n",
              "      <td>20</td>\n",
              "      <td>iOS</td>\n",
              "    </tr>\n",
              "    <tr>\n",
              "      <th>1</th>\n",
              "      <td>2013</td>\n",
              "      <td>2013-08</td>\n",
              "      <td>2013-08-01</td>\n",
              "      <td>game-01</td>\n",
              "      <td>28598</td>\n",
              "      <td>2013-07-16</td>\n",
              "      <td>game-01</td>\n",
              "      <td>M</td>\n",
              "      <td>50</td>\n",
              "      <td>iOS</td>\n",
              "    </tr>\n",
              "    <tr>\n",
              "      <th>2</th>\n",
              "      <td>2013</td>\n",
              "      <td>2013-08</td>\n",
              "      <td>2013-08-01</td>\n",
              "      <td>game-01</td>\n",
              "      <td>30306</td>\n",
              "      <td>2013-07-20</td>\n",
              "      <td>game-01</td>\n",
              "      <td>F</td>\n",
              "      <td>30</td>\n",
              "      <td>iOS</td>\n",
              "    </tr>\n",
              "    <tr>\n",
              "      <th>3</th>\n",
              "      <td>2013</td>\n",
              "      <td>2013-08</td>\n",
              "      <td>2013-08-01</td>\n",
              "      <td>game-01</td>\n",
              "      <td>117</td>\n",
              "      <td>2013-04-17</td>\n",
              "      <td>game-01</td>\n",
              "      <td>F</td>\n",
              "      <td>20</td>\n",
              "      <td>iOS</td>\n",
              "    </tr>\n",
              "    <tr>\n",
              "      <th>4</th>\n",
              "      <td>2013</td>\n",
              "      <td>2013-08</td>\n",
              "      <td>2013-08-01</td>\n",
              "      <td>game-01</td>\n",
              "      <td>6605</td>\n",
              "      <td>2013-05-02</td>\n",
              "      <td>game-01</td>\n",
              "      <td>M</td>\n",
              "      <td>20</td>\n",
              "      <td>iOS</td>\n",
              "    </tr>\n",
              "  </tbody>\n",
              "</table>\n",
              "</div>"
            ],
            "text/plain": [
              "   log_year log_month    log_date app_name_x  user_id install_date app_name_y  \\\n",
              "0      2013   2013-08  2013-08-01    game-01    33754   2013-08-01    game-01   \n",
              "1      2013   2013-08  2013-08-01    game-01    28598   2013-07-16    game-01   \n",
              "2      2013   2013-08  2013-08-01    game-01    30306   2013-07-20    game-01   \n",
              "3      2013   2013-08  2013-08-01    game-01      117   2013-04-17    game-01   \n",
              "4      2013   2013-08  2013-08-01    game-01     6605   2013-05-02    game-01   \n",
              "\n",
              "  gender  generation device_type  \n",
              "0      M          20         iOS  \n",
              "1      M          50         iOS  \n",
              "2      F          30         iOS  \n",
              "3      F          20         iOS  \n",
              "4      M          20         iOS  "
            ]
          },
          "metadata": {
            "tags": []
          },
          "execution_count": 89
        }
      ]
    },
    {
      "cell_type": "code",
      "metadata": {
        "id": "qxDgRfjGZIFx",
        "outputId": "daa31706-fcfd-4813-f00f-7cd298ebf47c"
      },
      "source": [
        "#8,9月user数比較\n",
        "df3_1[['log_month','user_id']].groupby('log_month').count().plot(kind='bar')"
      ],
      "execution_count": null,
      "outputs": [
        {
          "output_type": "execute_result",
          "data": {
            "text/plain": [
              "<AxesSubplot:xlabel='log_month'>"
            ]
          },
          "metadata": {
            "tags": []
          },
          "execution_count": 90
        },
        {
          "output_type": "display_data",
          "data": {
            "image/png": "[encoded data removed]",
            "text/plain": [
              "<Figure size 432x288 with 1 Axes>"
            ]
          },
          "metadata": {
            "tags": [],
            "needs_background": "light"
          }
        }
      ]
    },
    {
      "cell_type": "code",
      "metadata": {
        "id": "_234-EszZIF1",
        "outputId": "65855457-c728-4baf-d57d-013533c59e45"
      },
      "source": [
        "df3_1[['log_date','user_id']].groupby('log_date').count().plot(kind='line')"
      ],
      "execution_count": null,
      "outputs": [
        {
          "output_type": "stream",
          "text": [
            "/Library/Frameworks/Python.framework/Versions/3.8/lib/python3.8/site-packages/pandas/plotting/_matplotlib/core.py:1235: UserWarning: FixedFormatter should only be used together with FixedLocator\n",
            "  ax.set_xticklabels(xticklabels)\n"
          ],
          "name": "stderr"
        },
        {
          "output_type": "execute_result",
          "data": {
            "text/plain": [
              "<AxesSubplot:xlabel='log_date'>"
            ]
          },
          "metadata": {
            "tags": []
          },
          "execution_count": 97
        },
        {
          "output_type": "display_data",
          "data": {
            "image/png": "[encoded data removed]",
            "text/plain": [
              "<Figure size 432x288 with 1 Axes>"
            ]
          },
          "metadata": {
            "tags": [],
            "needs_background": "light"
          }
        }
      ]
    },
    {
      "cell_type": "code",
      "metadata": {
        "id": "pXTOWCo4ZIF3",
        "outputId": "4f38ae20-6158-4da1-99e5-fee7105518c3"
      },
      "source": [
        "df3_1[['log_month','user_id','gender']].groupby(['log_month','gender'],as_index=False).count()"
      ],
      "execution_count": null,
      "outputs": [
        {
          "output_type": "execute_result",
          "data": {
            "text/html": [
              "<div>\n",
              "<style scoped>\n",
              "    .dataframe tbody tr th:only-of-type {\n",
              "        vertical-align: middle;\n",
              "    }\n",
              "\n",
              "    .dataframe tbody tr th {\n",
              "        vertical-align: top;\n",
              "    }\n",
              "\n",
              "    .dataframe thead th {\n",
              "        text-align: right;\n",
              "    }\n",
              "</style>\n",
              "<table border=\"1\" class=\"dataframe\">\n",
              "  <thead>\n",
              "    <tr style=\"text-align: right;\">\n",
              "      <th></th>\n",
              "      <th>log_month</th>\n",
              "      <th>gender</th>\n",
              "      <th>user_id</th>\n",
              "    </tr>\n",
              "  </thead>\n",
              "  <tbody>\n",
              "    <tr>\n",
              "      <th>0</th>\n",
              "      <td>2013-08</td>\n",
              "      <td>F</td>\n",
              "      <td>47343</td>\n",
              "    </tr>\n",
              "    <tr>\n",
              "      <th>1</th>\n",
              "      <td>2013-08</td>\n",
              "      <td>M</td>\n",
              "      <td>46842</td>\n",
              "    </tr>\n",
              "    <tr>\n",
              "      <th>2</th>\n",
              "      <td>2013-09</td>\n",
              "      <td>F</td>\n",
              "      <td>38027</td>\n",
              "    </tr>\n",
              "    <tr>\n",
              "      <th>3</th>\n",
              "      <td>2013-09</td>\n",
              "      <td>M</td>\n",
              "      <td>38148</td>\n",
              "    </tr>\n",
              "  </tbody>\n",
              "</table>\n",
              "</div>"
            ],
            "text/plain": [
              "  log_month gender  user_id\n",
              "0   2013-08      F    47343\n",
              "1   2013-08      M    46842\n",
              "2   2013-09      F    38027\n",
              "3   2013-09      M    38148"
            ]
          },
          "metadata": {
            "tags": []
          },
          "execution_count": 98
        }
      ]
    },
    {
      "cell_type": "code",
      "metadata": {
        "id": "dHKFy0vqZIF7",
        "outputId": "9e6591d9-877a-4f60-c533-fe8af0ed1a74"
      },
      "source": [
        "df3_1[['log_month','user_id','gender']].groupby(['log_month','gender'],as_index=False).count().plot(kind='bar')"
      ],
      "execution_count": null,
      "outputs": [
        {
          "output_type": "execute_result",
          "data": {
            "text/plain": [
              "<AxesSubplot:>"
            ]
          },
          "metadata": {
            "tags": []
          },
          "execution_count": 99
        },
        {
          "output_type": "display_data",
          "data": {
            "image/png": "[encoded data removed]",
            "text/plain": [
              "<Figure size 432x288 with 1 Axes>"
            ]
          },
          "metadata": {
            "tags": [],
            "needs_background": "light"
          }
        }
      ]
    },
    {
      "cell_type": "code",
      "metadata": {
        "id": "6L91gdX-ZIGA"
      },
      "source": [
        ""
      ],
      "execution_count": null,
      "outputs": []
    }
  ]
}
